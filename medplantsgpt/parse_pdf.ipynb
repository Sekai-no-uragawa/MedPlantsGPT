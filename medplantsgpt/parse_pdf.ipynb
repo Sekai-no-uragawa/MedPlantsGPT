{
 "cells": [
  {
   "cell_type": "code",
   "execution_count": 6,
   "metadata": {},
   "outputs": [],
   "source": [
    "import re\n",
    "import pickle\n",
    "import json\n",
    "import yaml\n",
    "import constants"
   ]
  },
  {
   "cell_type": "code",
   "execution_count": 10,
   "metadata": {},
   "outputs": [],
   "source": [
    "CATEGORIES = constants.CATEGORIES"
   ]
  },
  {
   "cell_type": "code",
   "execution_count": 11,
   "metadata": {},
   "outputs": [],
   "source": [
    "def remove_html_tags(text):\n",
    "    clean_text = re.sub(r'<.*?>', '', text)\n",
    "    return clean_text\n",
    "\n",
    "\n",
    "def replace_regex(pattern, replacement, text):\n",
    "    # Create a regex pattern\n",
    "    regex = re.compile(pattern)\n",
    "\n",
    "    # Perform the replacement\n",
    "    replaced_text = regex.sub(replacement, text)\n",
    "\n",
    "    return replaced_text\n",
    "\n",
    "\n",
    "def split_to_cats(text):\n",
    "    global CATEGORIES\n",
    "    cats = {}\n",
    "    for cat in CATEGORIES:\n",
    "        if ' ' in cat:\n",
    "            cat_to_pateert = cat.split(' ')\n",
    "            pattern = rf'\\n{cat_to_pateert[0]}\\s+{cat_to_pateert[1]}[.](.+?)(?=\\n[аА-яЯ]+[.]?[•]?)'\n",
    "        else:\n",
    "            pattern = rf'\\n{cat}[.](.+?)(?=\\n[аА-яЯ]+[.]?[•]?)'\n",
    "        result = re.findall(pattern, text, re.DOTALL)\n",
    "        if len(result) > 0:\n",
    "            result = result[0].strip('.').strip()\n",
    "            result = result[:10].lower() + result[10:]\n",
    "            result = result[:1].upper() + result[1:]\n",
    "        else:\n",
    "            result = ''\n",
    "        cats[cat] = result\n",
    "    return cats\n"
   ]
  },
  {
   "cell_type": "code",
   "execution_count": 12,
   "metadata": {},
   "outputs": [],
   "source": [
    "file_path = '../data/dataset/atlas.html'\n",
    "with open(file_path, 'r') as file:\n",
    "    doc = file.read()\n",
    "\n",
    "doc = doc.replace('<br>', '')\n",
    "pattern = re.compile(\n",
    "    '<div style=\"position:absolute; border: textbox 1px solid; writing-mode:lr-tb; left:.*?px; top:.*?px; width:.*?px; height:.*?px;\"><span style=\"font-family: OFYQTW.+TimesNewRomanPS-BoldMT; font-size:23px\">([А-Я\\s]+[А-Я]\\s*)<\\/span>',\n",
    "    flags=re.M)\n",
    "splitted_doc = re.split(pattern, doc)\n",
    "\n",
    "clear_doc = []\n",
    "for x in splitted_doc:\n",
    "    ready = remove_html_tags(x)\n",
    "    ready = ready.replace('-\\n', '')\n",
    "    clear_doc.append(ready)\n",
    "\n",
    "pattern = r\"(?!\\nОписание)(?!\\nДругие виды)(?!\\nДругие  виды)(?!\\nАреал)(?!\\nЭкология)(?!\\nРесурсы)(?!\\nВозделывание)(?!\\nСырьё)(?!\\nХимический состав)(?!\\nХимический  состав)(?!\\nФармакологические свойства)(?!\\nПрименение в медицине)(?!\\nЛитература)\\n+\"\n",
    "\n",
    "replacement = \"\"\n",
    "clear_doc_withoutn = []\n",
    "for x in clear_doc:\n",
    "    ready = replace_regex(pattern, replacement, x)\\\n",
    "\n",
    "    clear_doc_withoutn.append(ready)\n",
    "clear_doc_withoutn = clear_doc_withoutn[3:]\n"
   ]
  },
  {
   "cell_type": "code",
   "execution_count": 13,
   "metadata": {},
   "outputs": [],
   "source": [
    "dict_doc = {}\n",
    "for i in range(0, len(clear_doc_withoutn), 2):\n",
    "    dict_text = {}\n",
    "    name = clear_doc_withoutn[i].strip()\n",
    "    text = clear_doc_withoutn[i + 1]\n",
    "    description = split_to_cats(text)\n",
    "    dict_doc[name] = description\n",
    "with open('../data/dataset/data.yml', 'w', encoding='utf-8') as outfile:\n",
    "    yaml.dump(dict_doc, outfile, default_flow_style=False, allow_unicode=True)"
   ]
  }
 ],
 "metadata": {
  "kernelspec": {
   "display_name": "medplantsgpt-zkb27557-py3.11",
   "language": "python",
   "name": "python3"
  },
  "language_info": {
   "codemirror_mode": {
    "name": "ipython",
    "version": 3
   },
   "file_extension": ".py",
   "mimetype": "text/x-python",
   "name": "python",
   "nbconvert_exporter": "python",
   "pygments_lexer": "ipython3",
   "version": "3.11.3"
  },
  "orig_nbformat": 4
 },
 "nbformat": 4,
 "nbformat_minor": 2
}
